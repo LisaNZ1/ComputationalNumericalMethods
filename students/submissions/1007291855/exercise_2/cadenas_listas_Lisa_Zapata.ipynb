{
 "cells": [
  {
   "cell_type": "code",
   "execution_count": 4,
   "id": "maritime-internship",
   "metadata": {},
   "outputs": [
    {
     "name": "stdout",
     "output_type": "stream",
     "text": [
      "example\n",
      " OK  got: 'H' expected: 'H'\n",
      " OK  got: 'wy' expected: 'wy'\n",
      " OK  got: '' expected: ''\n",
      "donuts\n",
      "  X  got: 'numero de donas = 4' expected: 'Numbero de donas: 4'\n",
      "  X  got: 'numero de donas = 9' expected: 'Numbero de donas: 9'\n",
      "  X  got: 'numero de donas = 10' expected: 'Numbero de donas: muchos'\n",
      "  X  got: 'Numero de donas = muchos' expected: 'Numbero de donas: muchos'\n",
      "both_ends\n",
      " OK  got: 'spng' expected: 'spng'\n",
      " OK  got: 'Helo' expected: 'Helo'\n",
      " OK  got: '' expected: ''\n",
      " OK  got: 'xyyz' expected: 'xyyz'\n",
      "fix_start\n",
      " OK  got: 'ba**le' expected: 'ba**le'\n",
      " OK  got: 'a*rdv*rk' expected: 'a*rdv*rk'\n",
      " OK  got: 'goo*le' expected: 'goo*le'\n",
      " OK  got: 'donut' expected: 'donut'\n",
      "mix_up\n",
      "mod pix\n",
      "  X  got: None expected: 'pox mid'\n",
      "dner dinog\n",
      "  X  got: None expected: 'dig donner'\n",
      "gnort spash\n",
      "  X  got: None expected: 'spash gnort'\n",
      "perm fizzy\n",
      "  X  got: None expected: 'fizzy perm'\n",
      "front_back\n"
     ]
    },
    {
     "ename": "TypeError",
     "evalue": "slice indices must be integers or None or have an __index__ method",
     "output_type": "error",
     "traceback": [
      "\u001b[1;31m---------------------------------------------------------------------------\u001b[0m",
      "\u001b[1;31mTypeError\u001b[0m                                 Traceback (most recent call last)",
      "\u001b[1;32m~\\AppData\\Local\\Temp/ipykernel_7976/2708540651.py\u001b[0m in \u001b[0;36m<module>\u001b[1;34m\u001b[0m\n\u001b[0;32m    193\u001b[0m \u001b[1;31m# Standard boilerplate to call the main() function.\u001b[0m\u001b[1;33m\u001b[0m\u001b[1;33m\u001b[0m\u001b[0m\n\u001b[0;32m    194\u001b[0m \u001b[1;32mif\u001b[0m \u001b[0m__name__\u001b[0m \u001b[1;33m==\u001b[0m \u001b[1;34m'__main__'\u001b[0m\u001b[1;33m:\u001b[0m\u001b[1;33m\u001b[0m\u001b[1;33m\u001b[0m\u001b[0m\n\u001b[1;32m--> 195\u001b[1;33m   \u001b[0mmain\u001b[0m\u001b[1;33m(\u001b[0m\u001b[1;33m)\u001b[0m\u001b[1;33m\u001b[0m\u001b[1;33m\u001b[0m\u001b[0m\n\u001b[0m",
      "\u001b[1;32m~\\AppData\\Local\\Temp/ipykernel_7976/2708540651.py\u001b[0m in \u001b[0;36mmain\u001b[1;34m()\u001b[0m\n\u001b[0;32m    180\u001b[0m   \u001b[0mprint\u001b[0m\u001b[1;33m\u001b[0m\u001b[1;33m\u001b[0m\u001b[0m\n\u001b[0;32m    181\u001b[0m   \u001b[0mprint\u001b[0m\u001b[1;33m(\u001b[0m\u001b[1;34m'front_back'\u001b[0m\u001b[1;33m)\u001b[0m\u001b[1;33m\u001b[0m\u001b[1;33m\u001b[0m\u001b[0m\n\u001b[1;32m--> 182\u001b[1;33m   \u001b[0mtest\u001b[0m\u001b[1;33m(\u001b[0m\u001b[0mfront_back\u001b[0m\u001b[1;33m(\u001b[0m\u001b[1;34m'abcd'\u001b[0m\u001b[1;33m,\u001b[0m \u001b[1;34m'xy'\u001b[0m\u001b[1;33m)\u001b[0m\u001b[1;33m,\u001b[0m \u001b[1;34m'abxcdy'\u001b[0m\u001b[1;33m)\u001b[0m\u001b[1;33m\u001b[0m\u001b[1;33m\u001b[0m\u001b[0m\n\u001b[0m\u001b[0;32m    183\u001b[0m   \u001b[0mtest\u001b[0m\u001b[1;33m(\u001b[0m\u001b[0mfront_back\u001b[0m\u001b[1;33m(\u001b[0m\u001b[1;34m'abcde'\u001b[0m\u001b[1;33m,\u001b[0m \u001b[1;34m'xyz'\u001b[0m\u001b[1;33m)\u001b[0m\u001b[1;33m,\u001b[0m \u001b[1;34m'abcxydez'\u001b[0m\u001b[1;33m)\u001b[0m\u001b[1;33m\u001b[0m\u001b[1;33m\u001b[0m\u001b[0m\n\u001b[0;32m    184\u001b[0m   \u001b[0mtest\u001b[0m\u001b[1;33m(\u001b[0m\u001b[0mfront_back\u001b[0m\u001b[1;33m(\u001b[0m\u001b[1;34m'Kitten'\u001b[0m\u001b[1;33m,\u001b[0m \u001b[1;34m'Donut'\u001b[0m\u001b[1;33m)\u001b[0m\u001b[1;33m,\u001b[0m \u001b[1;34m'KitDontenut'\u001b[0m\u001b[1;33m)\u001b[0m\u001b[1;33m\u001b[0m\u001b[1;33m\u001b[0m\u001b[0m\n",
      "\u001b[1;32m~\\AppData\\Local\\Temp/ipykernel_7976/2708540651.py\u001b[0m in \u001b[0;36mfront_back\u001b[1;34m(a, b)\u001b[0m\n\u001b[0;32m     91\u001b[0m \u001b[1;32mdef\u001b[0m \u001b[0mfront_back\u001b[0m\u001b[1;33m(\u001b[0m\u001b[0ma\u001b[0m\u001b[1;33m,\u001b[0m \u001b[0mb\u001b[0m\u001b[1;33m)\u001b[0m\u001b[1;33m:\u001b[0m\u001b[1;33m\u001b[0m\u001b[1;33m\u001b[0m\u001b[0m\n\u001b[0;32m     92\u001b[0m     \u001b[1;32mif\u001b[0m \u001b[0mlen\u001b[0m\u001b[1;33m(\u001b[0m\u001b[0ma\u001b[0m\u001b[1;33m)\u001b[0m\u001b[1;33m%\u001b[0m\u001b[1;36m2\u001b[0m \u001b[1;33m==\u001b[0m \u001b[1;36m0\u001b[0m\u001b[1;33m:\u001b[0m\u001b[1;33m\u001b[0m\u001b[1;33m\u001b[0m\u001b[0m\n\u001b[1;32m---> 93\u001b[1;33m         \u001b[0mafront\u001b[0m\u001b[1;33m,\u001b[0m \u001b[0maback\u001b[0m \u001b[1;33m=\u001b[0m \u001b[0ma\u001b[0m\u001b[1;33m[\u001b[0m\u001b[1;33m:\u001b[0m\u001b[0mlen\u001b[0m\u001b[1;33m(\u001b[0m\u001b[0ma\u001b[0m\u001b[1;33m)\u001b[0m\u001b[1;33m/\u001b[0m\u001b[1;36m2\u001b[0m\u001b[1;33m]\u001b[0m\u001b[1;33m,\u001b[0m \u001b[0ma\u001b[0m\u001b[1;33m[\u001b[0m\u001b[0mlen\u001b[0m\u001b[1;33m(\u001b[0m\u001b[0ma\u001b[0m\u001b[1;33m)\u001b[0m\u001b[1;33m/\u001b[0m\u001b[1;36m2\u001b[0m\u001b[1;33m:\u001b[0m\u001b[1;33m]\u001b[0m\u001b[1;33m\u001b[0m\u001b[1;33m\u001b[0m\u001b[0m\n\u001b[0m\u001b[0;32m     94\u001b[0m     \u001b[1;32melse\u001b[0m\u001b[1;33m:\u001b[0m\u001b[1;33m\u001b[0m\u001b[1;33m\u001b[0m\u001b[0m\n\u001b[0;32m     95\u001b[0m         \u001b[0mafront\u001b[0m\u001b[1;33m,\u001b[0m \u001b[0maback\u001b[0m \u001b[1;33m=\u001b[0m \u001b[0ma\u001b[0m\u001b[1;33m[\u001b[0m\u001b[1;33m:\u001b[0m\u001b[0mlen\u001b[0m\u001b[1;33m(\u001b[0m\u001b[0ma\u001b[0m\u001b[1;33m)\u001b[0m\u001b[1;33m+\u001b[0m\u001b[1;36m1\u001b[0m\u001b[1;33m/\u001b[0m\u001b[1;36m2\u001b[0m\u001b[1;33m]\u001b[0m\u001b[1;33m,\u001b[0m \u001b[0ma\u001b[0m\u001b[1;33m[\u001b[0m\u001b[0mlen\u001b[0m\u001b[1;33m(\u001b[0m\u001b[0ma\u001b[0m\u001b[1;33m)\u001b[0m\u001b[1;33m+\u001b[0m\u001b[1;36m1\u001b[0m\u001b[1;33m/\u001b[0m\u001b[1;36m2\u001b[0m\u001b[1;33m:\u001b[0m\u001b[1;33m]\u001b[0m\u001b[1;33m\u001b[0m\u001b[1;33m\u001b[0m\u001b[0m\n",
      "\u001b[1;31mTypeError\u001b[0m: slice indices must be integers or None or have an __index__ method"
     ]
    }
   ],
   "source": [
    "# LEEME\n",
    "# Despues de ejecutar este codigo los resultados aparecen en la celula abajo\n",
    "# verifica sus respuestas!\n",
    "\n",
    "\n",
    "# Ejemplo\n",
    "# para una cadena dada, devuelva una nueva cadena hecha de \n",
    "# primer y último carácter \n",
    "# si la cadena tiene menos que dos caracteres devuelva la nueva cadena con solo el primer carácter\n",
    "# si la cadena es vacia devuelve cadena vacia\n",
    "\n",
    "def first_last(some_string):\n",
    "    if len(some_string)==0:\n",
    "        result=''\n",
    "    if len(some_string)==1:\n",
    "        result=some_string[0]\n",
    "    if len(some_string)>1:\n",
    "        result=some_string[0]+some_string[-1]\n",
    "    return result\n",
    "\n",
    "# A. donas\n",
    "# Dado un numero entero integer de un número de donas, devuelva una cadena\n",
    "# de la forma 'Numero de donas: <count>', donde <count> es el número\n",
    "# Sin embargo, si el recuento es 10 o más, use la palabra 'muchos'\n",
    "# Entonces donuts(5) devuelve 'Numero de donas: 5'\n",
    "# y donuts(23) devuelve 'Numero de donas: muchos\n",
    "\n",
    "def donuts(count):\n",
    "    countp=int(count)\n",
    "    if countp>10:\n",
    "        print=(\"Numero de donas = muchos\")\n",
    "    else:\n",
    "        print=(f\"numero de donas = {countp}\")\n",
    "    return print\n",
    "\n",
    "\n",
    "# B. both_ends\n",
    "# Dada una cadena s, devuelve una cadena hecha de las primeras 2\n",
    "# y los últimos 2 caracteres de la cuerda original,\n",
    "# así que 'spring' produce 'spng'. Sin embargo, \n",
    "# si la longitud de la cadena es menor que 2, \n",
    "# devuelva en su lugar la cadena vacía.\n",
    "def both_ends(s):\n",
    "    if len(s)<=2:\n",
    "        result=\"\"\n",
    "    if len(s)>2:\n",
    "        result=s[0]+s[1]+s[-2]+s[-1]    \n",
    "    return result\n",
    "\n",
    "\n",
    "# C. fix_start\n",
    "# Dada una cadena s, devuelve una cadena\n",
    "# donde todas las ocurrencias de su primer caracter tienen\n",
    "# se ha cambiado a '*', excepto que no cambie el primer char en sí.\n",
    "# por ejemplo, 'babble' produce 'ba**le'\n",
    "# Supongamos que la cadena tiene una longitud 1 o superior.\n",
    "# Sugerencia: s.replace(stra, strb) devuelve una versión de string s\n",
    "# donde todas las instancias de stra han sido reemplazadas por strb.\n",
    "def fix_start(s):\n",
    "    stra=s[0]\n",
    "    cambios=s.replace(stra, \"*\")\n",
    "    cambios=stra + cambios [1:]\n",
    "    return cambios\n",
    "\n",
    "\n",
    "# D. MixUp\n",
    "# Dadas las cadenas a y b, devuelve una sola cadena con a y b separadas\n",
    "# por un espacio '<a> <b>', excepto intercambiar los primeros 2 caracteres de cada cadena.\n",
    "# por ejemplo.\n",
    "#   'mix', pod' -> 'pox mid'\n",
    "#   'dog', 'dinner' -> 'dig donner'\n",
    "# Supongamos que a y b son de longitud 2 o más.\n",
    "def mix_up(a, b):\n",
    "    ca=len(a)\n",
    "    cb=len(b)\n",
    "    newc= a[0:ca//2] + b[cb//2: cb]\n",
    "    newd= b[0: cb//2] + a[ca//2: ca]\n",
    "    print(newc,  newd)\n",
    "    return \n",
    "\n",
    "\n",
    "# E. front_back\n",
    "# Considere dividir una cadena en dos mitades.\n",
    "# Si la longitud es par, las mitades delantera y trasera tienen la misma longitud.\n",
    "# Si la longitud es impar, diremos que el caracter extra va en la mitad delantera.\n",
    "# por ejemplo, 'abcde', la mitad delantera es 'abc', la mitad trasera 'de'.\n",
    "# Dadas 2 cadenas, a y b, devuelven una cadena de la forma\n",
    "# a-front + b-front + a-back + b-back\n",
    "# ejemplo si dos cadenas son pares: a='xyzt', b='abcd'. result='xyabztcd'\n",
    "\n",
    "def front_back(a, b):\n",
    "    if len(a)%2 == 0:\n",
    "        afront, aback = a[:len(a)/2], a[len(a)/2:]\n",
    "    else:\n",
    "        afront, aback = a[:len(a)+1/2], a[len(a)+1/2:]\n",
    "\n",
    "    if len(b)%2 == 0:\n",
    "        bfront, bback = b[:len(b)+1/2], b[len(b)+1/2:]\n",
    "    else:\n",
    "        bfront, bback = b[:len(b)/2], b[len(b)/2:]\n",
    "    return afront+bfront+aback+bback\n",
    "\n",
    "# Desafío\n",
    "# F. Extraer el valor del tiempo (time=...) como float de una cadena\n",
    "# conversion se hace usando float(14) que devuelve 14.0\n",
    "# recuerda que el valor del tiempo puede tener formato de dos digitos o tres digitos como\n",
    "# dd.dd o ddd.d o dd.dd... pero siempre terminará con la cadena 'ms'\n",
    "# ejemplo de cadena: \n",
    "# '64 bytes de bogota.net (172.217.173.36): ttl=117 time=14.4 ms'\n",
    "#def extract_time(s):\n",
    "  # +++ su codigo aqui +++\n",
    " # return \n",
    "\n",
    "#ping www.google.com\n",
    "\n",
    "\n",
    "\n",
    "\n",
    "\n",
    "\n",
    "\n",
    "\n",
    "\n",
    "\n",
    "\n",
    "\n",
    "\n",
    "\n",
    "# DO NOT EDIT BELOW\n",
    "#############################################################################################################################################\n",
    "#############################################################################################################################################\n",
    "# Provided simple test() function used in main() to print\n",
    "# what each function returns vs. what it's supposed to return.\n",
    "def test(got, expected):\n",
    "  if got == expected:\n",
    "    prefix = ' OK '\n",
    "  else:\n",
    "    prefix = '  X '\n",
    "  print('%s got: %s expected: %s' % (prefix, repr(got), repr(expected)))\n",
    "\n",
    "\n",
    "# Provided main() calls the above functions with interesting inputs,\n",
    "# using test() to check if each result is correct or not.\n",
    "def main():\n",
    "    \n",
    "  print('example')\n",
    "  test(first_last('H'), 'H')\n",
    "  test(first_last('what an amazing day'), 'wy')\n",
    "  test(first_last(''), '')\n",
    "\n",
    "  print('donuts')\n",
    "  # Each line calls donuts, compares its result to the expected for that call.\n",
    "  test(donuts(4), 'Numbero de donas: 4')\n",
    "  test(donuts(9), 'Numbero de donas: 9')\n",
    "  test(donuts(10), 'Numbero de donas: muchos')\n",
    "  test(donuts(99), 'Numbero de donas: muchos')\n",
    "\n",
    "  print\n",
    "  print('both_ends')\n",
    "  test(both_ends('spring'), 'spng')\n",
    "  test(both_ends('Hello'), 'Helo')\n",
    "  test(both_ends('a'), '')\n",
    "  test(both_ends('xyz'), 'xyyz')\n",
    "\n",
    "  \n",
    "  print\n",
    "  print('fix_start')\n",
    "  test(fix_start('babble'), 'ba**le')\n",
    "  test(fix_start('aardvark'), 'a*rdv*rk')\n",
    "  test(fix_start('google'), 'goo*le')\n",
    "  test(fix_start('donut'), 'donut')\n",
    "\n",
    "  print\n",
    "  print('mix_up')\n",
    "  test(mix_up('mix', 'pod'), 'pox mid')\n",
    "  test(mix_up('dog', 'dinner'), 'dig donner')\n",
    "  test(mix_up('gnash', 'sport'), 'spash gnort')\n",
    "  test(mix_up('pezzy', 'firm'), 'fizzy perm')\n",
    "\n",
    "  print\n",
    "  print('front_back')\n",
    "  test(front_back('abcd', 'xy'), 'abxcdy')\n",
    "  test(front_back('abcde', 'xyz'), 'abcxydez')\n",
    "  test(front_back('Kitten', 'Donut'), 'KitDontenut')\n",
    "\n",
    "  print\n",
    "  print('extract')\n",
    "  test(extract_time('64 bytes from bog02s12-in-f4.1e100.net (172.217.173.36): icmp_seq=1 ttl=117 time=14.4 ms'), 14.4)\n",
    "  test(extract_time('64 bytes from bog02s12-in-f4.1e100.net (172.217.173.36): icmp_seq=1 ttl=1147 time=1250.42 ms'), 1250.42)\n",
    "  test(extract_time('64 bytes from bog02s12-in-.net (172.217.173.36): icmp_seq=1 ttl=1217 time=25.1 ms google statistics'), 25.1)\n",
    "\n",
    "\n",
    "# Standard boilerplate to call the main() function.\n",
    "if __name__ == '__main__':\n",
    "  main()\n"
   ]
  },
  {
   "cell_type": "code",
   "execution_count": 12,
   "id": "entertaining-blind",
   "metadata": {},
   "outputs": [
    {
     "data": {
      "text/plain": [
       "'ha'"
      ]
     },
     "execution_count": 12,
     "metadata": {},
     "output_type": "execute_result"
    }
   ],
   "source": [
    "first_last(\"hola caracola\")\n"
   ]
  },
  {
   "cell_type": "code",
   "execution_count": 6,
   "id": "c445d7e5",
   "metadata": {},
   "outputs": [
    {
     "data": {
      "text/plain": [
       "'Numero de donas = muchos'"
      ]
     },
     "execution_count": 6,
     "metadata": {},
     "output_type": "execute_result"
    }
   ],
   "source": [
    "donuts(20)"
   ]
  },
  {
   "cell_type": "code",
   "execution_count": 8,
   "id": "e56c5586",
   "metadata": {},
   "outputs": [
    {
     "data": {
      "text/plain": [
       "'pevo'"
      ]
     },
     "execution_count": 8,
     "metadata": {},
     "output_type": "execute_result"
    }
   ],
   "source": [
    "both_ends(\"perro bravo\")"
   ]
  },
  {
   "cell_type": "code",
   "execution_count": 9,
   "id": "0be1e57c",
   "metadata": {},
   "outputs": [
    {
     "data": {
      "text/plain": [
       "'am*rte'"
      ]
     },
     "execution_count": 9,
     "metadata": {},
     "output_type": "execute_result"
    }
   ],
   "source": [
    "fix_start(\"amarte\")"
   ]
  },
  {
   "cell_type": "code",
   "execution_count": 10,
   "id": "a14d368a",
   "metadata": {},
   "outputs": [
    {
     "name": "stdout",
     "output_type": "stream",
     "text": [
      "arneta plaroz\n"
     ]
    }
   ],
   "source": [
    "mix_up(\"arroz\", \"planeta\")"
   ]
  }
 ],
 "metadata": {
  "kernelspec": {
   "display_name": "Python 3 (ipykernel)",
   "language": "python",
   "name": "python3"
  },
  "language_info": {
   "codemirror_mode": {
    "name": "ipython",
    "version": 3
   },
   "file_extension": ".py",
   "mimetype": "text/x-python",
   "name": "python",
   "nbconvert_exporter": "python",
   "pygments_lexer": "ipython3",
   "version": "3.10.0"
  }
 },
 "nbformat": 4,
 "nbformat_minor": 5
}
